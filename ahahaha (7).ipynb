{
  "nbformat": 4,
  "nbformat_minor": 0,
  "metadata": {
    "colab": {
      "name": "ahahaha.ipynb",
      "provenance": [],
      "collapsed_sections": []
    },
    "kernelspec": {
      "name": "python3",
      "display_name": "Python 3"
    },
    "language_info": {
      "name": "python"
    },
    "accelerator": "GPU"
  },
  "cells": [
    {
      "cell_type": "code",
      "metadata": {
        "colab": {
          "base_uri": "https://localhost:8080/"
        },
        "id": "o0ZxzO6GGtB5",
        "outputId": "04a56cdc-ed95-4bff-f91b-484a9b5fc976"
      },
      "source": [
        "# Import library yang digunakan\n",
        "import pandas as pd\n",
        "import matplotlib.pyplot as plt\n",
        "import nltk\n",
        "nltk.download('stopwords')\n",
        "from nltk.corpus import stopwords\n",
        "stop_word = stopwords.words('english')\n",
        "import re\n",
        "import string\n",
        "import numpy as np\n",
        "import tensorflow as tf\n",
        "from sklearn.model_selection import train_test_split\n",
        "from tensorflow.keras.preprocessing.text import Tokenizer\n",
        "from tensorflow.keras.preprocessing.sequence import pad_sequences\n",
        "from tensorflow.keras.models import Sequential\n",
        "from tensorflow.keras.layers import Embedding, LSTM, Dense, Dropout"
      ],
      "execution_count": 1,
      "outputs": [
        {
          "output_type": "stream",
          "name": "stdout",
          "text": [
            "[nltk_data] Downloading package stopwords to /root/nltk_data...\n",
            "[nltk_data]   Unzipping corpora/stopwords.zip.\n"
          ]
        }
      ]
    },
    {
      "cell_type": "code",
      "metadata": {
        "colab": {
          "base_uri": "https://localhost:8080/",
          "height": 417
        },
        "id": "mJZGiv6QMR8h",
        "outputId": "f4d1c0ff-fa21-423d-d961-d9e436616a13"
      },
      "source": [
        "# Load dataset pada Colaboratory\n",
        "df = pd.read_csv('Corona_NLP_train.csv', encoding='latin-1')            #baca dataset\n",
        "df = df.drop(columns=['UserName', 'ScreenName', 'Location', 'TweetAt']) #menghapus kolom yang tidak diperlukan\n",
        "df"
      ],
      "execution_count": 25,
      "outputs": [
        {
          "output_type": "execute_result",
          "data": {
            "text/html": [
              "<div>\n",
              "<style scoped>\n",
              "    .dataframe tbody tr th:only-of-type {\n",
              "        vertical-align: middle;\n",
              "    }\n",
              "\n",
              "    .dataframe tbody tr th {\n",
              "        vertical-align: top;\n",
              "    }\n",
              "\n",
              "    .dataframe thead th {\n",
              "        text-align: right;\n",
              "    }\n",
              "</style>\n",
              "<table border=\"1\" class=\"dataframe\">\n",
              "  <thead>\n",
              "    <tr style=\"text-align: right;\">\n",
              "      <th></th>\n",
              "      <th>OriginalTweet</th>\n",
              "      <th>Sentiment</th>\n",
              "    </tr>\n",
              "  </thead>\n",
              "  <tbody>\n",
              "    <tr>\n",
              "      <th>0</th>\n",
              "      <td>@MeNyrbie @Phil_Gahan @Chrisitv https://t.co/i...</td>\n",
              "      <td>Neutral</td>\n",
              "    </tr>\n",
              "    <tr>\n",
              "      <th>1</th>\n",
              "      <td>advice Talk to your neighbours family to excha...</td>\n",
              "      <td>Positive</td>\n",
              "    </tr>\n",
              "    <tr>\n",
              "      <th>2</th>\n",
              "      <td>Coronavirus Australia: Woolworths to give elde...</td>\n",
              "      <td>Positive</td>\n",
              "    </tr>\n",
              "    <tr>\n",
              "      <th>3</th>\n",
              "      <td>My food stock is not the only one which is emp...</td>\n",
              "      <td>Positive</td>\n",
              "    </tr>\n",
              "    <tr>\n",
              "      <th>4</th>\n",
              "      <td>Me, ready to go at supermarket during the #COV...</td>\n",
              "      <td>Extremely Negative</td>\n",
              "    </tr>\n",
              "    <tr>\n",
              "      <th>...</th>\n",
              "      <td>...</td>\n",
              "      <td>...</td>\n",
              "    </tr>\n",
              "    <tr>\n",
              "      <th>41152</th>\n",
              "      <td>Airline pilots offering to stock supermarket s...</td>\n",
              "      <td>Neutral</td>\n",
              "    </tr>\n",
              "    <tr>\n",
              "      <th>41153</th>\n",
              "      <td>Response to complaint not provided citing COVI...</td>\n",
              "      <td>Extremely Negative</td>\n",
              "    </tr>\n",
              "    <tr>\n",
              "      <th>41154</th>\n",
              "      <td>You know itÂs getting tough when @KameronWild...</td>\n",
              "      <td>Positive</td>\n",
              "    </tr>\n",
              "    <tr>\n",
              "      <th>41155</th>\n",
              "      <td>Is it wrong that the smell of hand sanitizer i...</td>\n",
              "      <td>Neutral</td>\n",
              "    </tr>\n",
              "    <tr>\n",
              "      <th>41156</th>\n",
              "      <td>@TartiiCat Well new/used Rift S are going for ...</td>\n",
              "      <td>Negative</td>\n",
              "    </tr>\n",
              "  </tbody>\n",
              "</table>\n",
              "<p>41157 rows × 2 columns</p>\n",
              "</div>"
            ],
            "text/plain": [
              "                                           OriginalTweet           Sentiment\n",
              "0      @MeNyrbie @Phil_Gahan @Chrisitv https://t.co/i...             Neutral\n",
              "1      advice Talk to your neighbours family to excha...            Positive\n",
              "2      Coronavirus Australia: Woolworths to give elde...            Positive\n",
              "3      My food stock is not the only one which is emp...            Positive\n",
              "4      Me, ready to go at supermarket during the #COV...  Extremely Negative\n",
              "...                                                  ...                 ...\n",
              "41152  Airline pilots offering to stock supermarket s...             Neutral\n",
              "41153  Response to complaint not provided citing COVI...  Extremely Negative\n",
              "41154  You know itÂs getting tough when @KameronWild...            Positive\n",
              "41155  Is it wrong that the smell of hand sanitizer i...             Neutral\n",
              "41156  @TartiiCat Well new/used Rift S are going for ...            Negative\n",
              "\n",
              "[41157 rows x 2 columns]"
            ]
          },
          "metadata": {},
          "execution_count": 25
        }
      ]
    },
    {
      "cell_type": "code",
      "metadata": {
        "id": "cA7yi49KeiSr"
      },
      "source": [
        "# Fungsi untuk mengubah jumlah kelas menjadi 3 kelas; pos, neg, neu\n",
        "def change_sentiment(sentiment):\n",
        "  if sentiment == \"Extremely Positive\":\n",
        "    return 'Positive'\n",
        "  elif sentiment == \"Extremely Negative\":\n",
        "    return 'Negative'\n",
        "  elif sentiment == \"Positive\":\n",
        "    return 'Positive'\n",
        "  elif sentiment == \"Negative\":\n",
        "    return 'Negative'\n",
        "  else:\n",
        "    return 'Neutral'"
      ],
      "execution_count": 26,
      "outputs": []
    },
    {
      "cell_type": "code",
      "metadata": {
        "id": "nhDU6fQsXeZW"
      },
      "source": [
        "# Preprocessing tweet\n",
        "def cleansing(text):\n",
        "  text = text.lower()\n",
        "  #untuk menghapus urls, mentions, digits, html tags, tanda baca\n",
        "  text = text.replace('&amp', ' ')\n",
        "  text = text.replace('amp', ' ')\n",
        "  text = re.sub(r'https?://\\S+|www\\.\\S+', \" \", text)\n",
        "  text = re.sub(r'@\\w+',' ',text)\n",
        "  text = re.sub(r'\\d+', ' ', text)\n",
        "  text = re.sub('r<.*?>',' ', text)\n",
        "  \n",
        "  text = text.translate(str.maketrans(' ', ' ', string.punctuation))\n",
        "\n",
        "  #untuk menghapus stop words \n",
        "  text = text.split()\n",
        "  text = \" \".join([word for word in text if not word in stop_word])  \n",
        "  return text"
      ],
      "execution_count": 128,
      "outputs": []
    },
    {
      "cell_type": "code",
      "metadata": {
        "id": "OvugtRVje-DR"
      },
      "source": [
        "# Mengganti tweet dengan tweet yang sudah dipreprocessing dan sentiment sesuai dengan kelas yang sudah ditentukan tadi\n",
        "df['Sentiment'] = df['Sentiment'].apply(lambda x: change_sentiment(x))\n",
        "df['OriginalTweet'] = df['OriginalTweet'].apply(lambda x: cleansing(x))"
      ],
      "execution_count": 43,
      "outputs": []
    },
    {
      "cell_type": "code",
      "metadata": {
        "colab": {
          "base_uri": "https://localhost:8080/",
          "height": 417
        },
        "id": "Tmmgavx7NVid",
        "outputId": "d15d1544-ac57-4552-acea-861fc560c07c"
      },
      "source": [
        "# Karena label kita berupa data kategorikal, maka kita perlu melakukan proses one-hot-encoding\n",
        "category = pd.get_dummies(df.Sentiment)\n",
        "df_baru = pd.concat([df, category], axis=1)\n",
        "df_baru = df_baru.drop(columns='Sentiment')\n",
        "df_baru"
      ],
      "execution_count": 44,
      "outputs": [
        {
          "output_type": "execute_result",
          "data": {
            "text/html": [
              "<div>\n",
              "<style scoped>\n",
              "    .dataframe tbody tr th:only-of-type {\n",
              "        vertical-align: middle;\n",
              "    }\n",
              "\n",
              "    .dataframe tbody tr th {\n",
              "        vertical-align: top;\n",
              "    }\n",
              "\n",
              "    .dataframe thead th {\n",
              "        text-align: right;\n",
              "    }\n",
              "</style>\n",
              "<table border=\"1\" class=\"dataframe\">\n",
              "  <thead>\n",
              "    <tr style=\"text-align: right;\">\n",
              "      <th></th>\n",
              "      <th>OriginalTweet</th>\n",
              "      <th>Negative</th>\n",
              "      <th>Neutral</th>\n",
              "      <th>Positive</th>\n",
              "    </tr>\n",
              "  </thead>\n",
              "  <tbody>\n",
              "    <tr>\n",
              "      <th>0</th>\n",
              "      <td></td>\n",
              "      <td>0</td>\n",
              "      <td>1</td>\n",
              "      <td>0</td>\n",
              "    </tr>\n",
              "    <tr>\n",
              "      <th>1</th>\n",
              "      <td>advice talk neighbours family exchange phone n...</td>\n",
              "      <td>0</td>\n",
              "      <td>0</td>\n",
              "      <td>1</td>\n",
              "    </tr>\n",
              "    <tr>\n",
              "      <th>2</th>\n",
              "      <td>coronavirus australia woolworths give elderly ...</td>\n",
              "      <td>0</td>\n",
              "      <td>0</td>\n",
              "      <td>1</td>\n",
              "    </tr>\n",
              "    <tr>\n",
              "      <th>3</th>\n",
              "      <td>food stock one empty please dont panic enough ...</td>\n",
              "      <td>0</td>\n",
              "      <td>0</td>\n",
              "      <td>1</td>\n",
              "    </tr>\n",
              "    <tr>\n",
              "      <th>4</th>\n",
              "      <td>ready go supermarket outbreak im paranoid food...</td>\n",
              "      <td>1</td>\n",
              "      <td>0</td>\n",
              "      <td>0</td>\n",
              "    </tr>\n",
              "    <tr>\n",
              "      <th>...</th>\n",
              "      <td>...</td>\n",
              "      <td>...</td>\n",
              "      <td>...</td>\n",
              "      <td>...</td>\n",
              "    </tr>\n",
              "    <tr>\n",
              "      <th>41152</th>\n",
              "      <td>airline pilots offering stock supermarket shel...</td>\n",
              "      <td>0</td>\n",
              "      <td>1</td>\n",
              "      <td>0</td>\n",
              "    </tr>\n",
              "    <tr>\n",
              "      <th>41153</th>\n",
              "      <td>response complaint provided citing covid relat...</td>\n",
              "      <td>1</td>\n",
              "      <td>0</td>\n",
              "      <td>0</td>\n",
              "    </tr>\n",
              "    <tr>\n",
              "      <th>41154</th>\n",
              "      <td>know itâs getting tough rationing toilet pape...</td>\n",
              "      <td>0</td>\n",
              "      <td>0</td>\n",
              "      <td>1</td>\n",
              "    </tr>\n",
              "    <tr>\n",
              "      <th>41155</th>\n",
              "      <td>wrong smell hand sanitizer starting turn</td>\n",
              "      <td>0</td>\n",
              "      <td>1</td>\n",
              "      <td>0</td>\n",
              "    </tr>\n",
              "    <tr>\n",
              "      <th>41156</th>\n",
              "      <td>well newused rift going amazon rn although nor...</td>\n",
              "      <td>1</td>\n",
              "      <td>0</td>\n",
              "      <td>0</td>\n",
              "    </tr>\n",
              "  </tbody>\n",
              "</table>\n",
              "<p>41157 rows × 4 columns</p>\n",
              "</div>"
            ],
            "text/plain": [
              "                                           OriginalTweet  ...  Positive\n",
              "0                                                         ...         0\n",
              "1      advice talk neighbours family exchange phone n...  ...         1\n",
              "2      coronavirus australia woolworths give elderly ...  ...         1\n",
              "3      food stock one empty please dont panic enough ...  ...         1\n",
              "4      ready go supermarket outbreak im paranoid food...  ...         0\n",
              "...                                                  ...  ...       ...\n",
              "41152  airline pilots offering stock supermarket shel...  ...         0\n",
              "41153  response complaint provided citing covid relat...  ...         0\n",
              "41154  know itâs getting tough rationing toilet pape...  ...         1\n",
              "41155           wrong smell hand sanitizer starting turn  ...         0\n",
              "41156  well newused rift going amazon rn although nor...  ...         0\n",
              "\n",
              "[41157 rows x 4 columns]"
            ]
          },
          "metadata": {},
          "execution_count": 44
        }
      ]
    },
    {
      "cell_type": "code",
      "metadata": {
        "id": "CwMGy7s_v8x-"
      },
      "source": [
        "# Mengubah nilai-nilai dari dataframe ke dalam tipe data numpy array menggunakan atribut values\n",
        "tweet = df_baru['OriginalTweet'].values\n",
        "label = df_baru[['Negative', 'Positive', 'Neutral']].values"
      ],
      "execution_count": 45,
      "outputs": []
    },
    {
      "cell_type": "code",
      "metadata": {
        "colab": {
          "base_uri": "https://localhost:8080/"
        },
        "id": "HBxjEAxzNxDm",
        "outputId": "45caeca7-1034-4246-b1b6-2c6622019d9b"
      },
      "source": [
        "# Membagi dataset untuk training dan validation\n",
        "tweet_latih, tweet_validation, label_latih, label_validation = train_test_split(tweet, label, test_size=0.2)\n",
        "\n",
        "print(tweet_latih.shape, label_latih.shape)\n",
        "print(tweet_validation.shape, label_validation.shape)"
      ],
      "execution_count": 47,
      "outputs": [
        {
          "output_type": "stream",
          "name": "stdout",
          "text": [
            "(32925,) (32925, 3)\n",
            "(8232,) (8232, 3)\n"
          ]
        }
      ]
    },
    {
      "cell_type": "code",
      "metadata": {
        "colab": {
          "base_uri": "https://localhost:8080/"
        },
        "id": "4me-h1zYN4iW",
        "outputId": "e4f527dd-ed3a-40ff-b562-de4499a9db45"
      },
      "source": [
        "# Agar teks dapat dipahami oleh model, kita harus lakukan tokenisasi\n",
        "\n",
        "#ubah setiap kata pada dataset kita ke dalam bilangan numerik dengan fungsi Tokenizer\n",
        "NUM_WORD = 10000\n",
        "tokenizer = Tokenizer(num_words=NUM_WORD, oov_token='x')     #num_words: x kata tersering muncul\n",
        "tokenizer.fit_on_texts(tweet_latih) \n",
        "# tokenizer.fit_on_texts(tweet_validation)\n",
        "\n",
        "#mengonversi setiap sampel menjadi sequence\n",
        "sekuens_latih = tokenizer.texts_to_sequences(tweet_latih)\n",
        "sekuens_validation = tokenizer.texts_to_sequences(tweet_validation)\n",
        "\n",
        "max_sekuens = np.max([len(x) for x in sekuens_latih])\n",
        "print(\"max_sekuens: \",max_sekuens)\n",
        "\n",
        "#gunakan fungsi pad_sequences agar setiap sequence sama panjang \n",
        "padded_latih = pad_sequences(sekuens_latih,  maxlen=max_sekuens,  padding='post')\n",
        "padded_validation = pad_sequences(sekuens_validation, maxlen=max_sekuens,  padding='post')\n",
        "print(\"len token: \",len(tokenizer.word_index))"
      ],
      "execution_count": 75,
      "outputs": [
        {
          "output_type": "stream",
          "name": "stdout",
          "text": [
            "max_sekuens:  41\n",
            "len token:  34345\n"
          ]
        }
      ]
    },
    {
      "cell_type": "code",
      "metadata": {
        "colab": {
          "base_uri": "https://localhost:8080/"
        },
        "id": "UC212lk_O1gF",
        "outputId": "55db98b4-505c-44d2-e49c-d50695aba3b2"
      },
      "source": [
        "# Arsitektur model\n",
        "model = Sequential([\n",
        "    Embedding(input_dim=NUM_WORD, output_dim=16, input_length=max_sekuens),\n",
        "    LSTM(64),\n",
        "    Dense(512, activation='relu'),\n",
        "    Dropout(0.5),\n",
        "    Dense(512, activation='relu'),\n",
        "    Dropout(0.5),\n",
        "    Dense(512, activation='relu'),\n",
        "    Dropout(0.5),\n",
        "    Dense(3, activation='softmax')\n",
        "])\n",
        "model.summary()\n",
        "\n",
        "# Panggil fungsi compile\n",
        "model.compile(\n",
        "    loss='categorical_crossentropy',\n",
        "    optimizer=tf.keras.optimizers.Adam(),\n",
        "    metrics=['accuracy']\n",
        "    )"
      ],
      "execution_count": 137,
      "outputs": [
        {
          "output_type": "stream",
          "name": "stdout",
          "text": [
            "Model: \"sequential_35\"\n",
            "_________________________________________________________________\n",
            " Layer (type)                Output Shape              Param #   \n",
            "=================================================================\n",
            " embedding_35 (Embedding)    (None, 41, 16)            160000    \n",
            "                                                                 \n",
            " lstm_35 (LSTM)              (None, 64)                20736     \n",
            "                                                                 \n",
            " dense_129 (Dense)           (None, 512)               33280     \n",
            "                                                                 \n",
            " dropout_94 (Dropout)        (None, 512)               0         \n",
            "                                                                 \n",
            " dense_130 (Dense)           (None, 512)               262656    \n",
            "                                                                 \n",
            " dropout_95 (Dropout)        (None, 512)               0         \n",
            "                                                                 \n",
            " dense_131 (Dense)           (None, 512)               262656    \n",
            "                                                                 \n",
            " dropout_96 (Dropout)        (None, 512)               0         \n",
            "                                                                 \n",
            " dense_132 (Dense)           (None, 3)                 1539      \n",
            "                                                                 \n",
            "=================================================================\n",
            "Total params: 740,867\n",
            "Trainable params: 740,867\n",
            "Non-trainable params: 0\n",
            "_________________________________________________________________\n"
          ]
        }
      ]
    },
    {
      "cell_type": "code",
      "metadata": {
        "colab": {
          "base_uri": "https://localhost:8080/"
        },
        "id": "W56uqZn2Q7vL",
        "outputId": "0c094b14-39b4-4761-9178-ea5174f952c6"
      },
      "source": [
        "# Penggunaan callback untuk menghentikan pelatihan saat kondisi yang diinginkan telah tercapai\n",
        "callbacks = [\n",
        "    tf.keras.callbacks.EarlyStopping(\n",
        "        monitor=\"val_loss\",               # Stop training when `val_loss` is no longer improving\n",
        "        patience=5,                       # \"no longer improving\" being further defined as \"for at least 5 epochs\"\n",
        "        verbose=2,\n",
        "        mode='min'\n",
        "    )\n",
        "]\n",
        "\n",
        "# Melatih model dengan memanggil fungsi fit()\n",
        "history = model.fit(\n",
        "    padded_latih, \n",
        "    label_latih, \n",
        "    batch_size=128,\n",
        "    epochs=15, \n",
        "    validation_data=(padded_validation, label_validation), \n",
        "    callbacks=[callbacks],\n",
        "    verbose=2\n",
        "    )"
      ],
      "execution_count": 138,
      "outputs": [
        {
          "output_type": "stream",
          "name": "stdout",
          "text": [
            "Epoch 1/15\n",
            "258/258 - 7s - loss: 1.0177 - accuracy: 0.4475 - val_loss: 0.8824 - val_accuracy: 0.5344 - 7s/epoch - 26ms/step\n",
            "Epoch 2/15\n",
            "258/258 - 4s - loss: 0.7331 - accuracy: 0.6768 - val_loss: 0.5378 - val_accuracy: 0.7958 - 4s/epoch - 14ms/step\n",
            "Epoch 3/15\n",
            "258/258 - 4s - loss: 0.4270 - accuracy: 0.8526 - val_loss: 0.4587 - val_accuracy: 0.8355 - 4s/epoch - 15ms/step\n",
            "Epoch 4/15\n",
            "258/258 - 4s - loss: 0.3083 - accuracy: 0.9020 - val_loss: 0.4567 - val_accuracy: 0.8414 - 4s/epoch - 15ms/step\n",
            "Epoch 5/15\n",
            "258/258 - 4s - loss: 0.2603 - accuracy: 0.9195 - val_loss: 0.5221 - val_accuracy: 0.8314 - 4s/epoch - 14ms/step\n",
            "Epoch 6/15\n",
            "258/258 - 4s - loss: 0.2364 - accuracy: 0.9291 - val_loss: 0.4825 - val_accuracy: 0.8416 - 4s/epoch - 14ms/step\n",
            "Epoch 7/15\n",
            "258/258 - 4s - loss: 0.2121 - accuracy: 0.9376 - val_loss: 0.5100 - val_accuracy: 0.8388 - 4s/epoch - 14ms/step\n",
            "Epoch 8/15\n",
            "258/258 - 4s - loss: 0.2005 - accuracy: 0.9418 - val_loss: 0.5849 - val_accuracy: 0.8360 - 4s/epoch - 15ms/step\n",
            "Epoch 9/15\n",
            "258/258 - 4s - loss: 0.1858 - accuracy: 0.9476 - val_loss: 0.6255 - val_accuracy: 0.8370 - 4s/epoch - 15ms/step\n",
            "Epoch 00009: early stopping\n"
          ]
        }
      ]
    },
    {
      "cell_type": "code",
      "metadata": {
        "colab": {
          "base_uri": "https://localhost:8080/"
        },
        "id": "C8NBGCL6RKdH",
        "outputId": "6a0ff706-6be1-4a27-bb45-e9c868c110b4"
      },
      "source": [
        "# Evaluasi model\n",
        "print(\"Train Accuracy\")\n",
        "train_accuracy = model.evaluate(padded_latih, label_latih, verbose=1)\n",
        "print(\"\\nValidation Accuracy\")\n",
        "validation_accuracy = model.evaluate(padded_validation, label_validation, verbose=1)"
      ],
      "execution_count": 139,
      "outputs": [
        {
          "output_type": "stream",
          "name": "stdout",
          "text": [
            "Train Accuracy\n",
            "1029/1029 [==============================] - 6s 6ms/step - loss: 0.1511 - accuracy: 0.9535\n",
            "\n",
            "Validation Accuracy\n",
            "258/258 [==============================] - 2s 6ms/step - loss: 0.6255 - accuracy: 0.8370\n"
          ]
        }
      ]
    },
    {
      "cell_type": "code",
      "metadata": {
        "colab": {
          "base_uri": "https://localhost:8080/",
          "height": 691
        },
        "id": "A_Ymo3SKRMYG",
        "outputId": "4ad63e58-f341-4542-898e-9f270ccdf4ab"
      },
      "source": [
        "# Visualisasi akurasi dan loss terhadap epoch\n",
        "epochs = range(1,len(history.history['accuracy'])+1)\n",
        "\n",
        "# plot accuracy \n",
        "plt.style.use('ggplot')\n",
        "plt.figure(figsize=(10,5))\n",
        "plt.title('Training and Validation Accuracy')\n",
        "plt.plot(epochs, history.history['accuracy'], label='training')\n",
        "plt.plot(epochs, history.history['val_accuracy'], label='validation')\n",
        "plt.xlabel('epoch')\n",
        "plt.ylabel('accuracy')\n",
        "plt.legend()\n",
        "plt.show()\n",
        "\n",
        "# plot loss \n",
        "plt.style.use('ggplot')\n",
        "plt.figure(figsize=(10,5))\n",
        "plt.title('Training and Validation Loss')\n",
        "plt.plot(epochs, history.history['loss'], label='training')\n",
        "plt.plot(epochs, history.history['val_loss'], label='validation')\n",
        "plt.xlabel('epoch')\n",
        "plt.ylabel('loss')\n",
        "plt.legend()\n",
        "plt.show()"
      ],
      "execution_count": 141,
      "outputs": [
        {
          "output_type": "display_data",
          "data": {
            "image/png": "[encoded data removed]",
            "text/plain": [
              "<Figure size 720x360 with 1 Axes>"
            ]
          },
          "metadata": {}
        },
        {
          "output_type": "display_data",
          "data": {
            "image/png": "[encoded data removed]",
            "text/plain": [
              "<Figure size 720x360 with 1 Axes>"
            ]
          },
          "metadata": {}
        }
      ]
    }
  ]
}